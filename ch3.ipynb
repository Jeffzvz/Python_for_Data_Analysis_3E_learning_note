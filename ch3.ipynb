{
 "cells": [
  {
   "cell_type": "markdown",
   "metadata": {},
   "source": [
    "## Randomly record tuple (interesting characteristics)"
   ]
  },
  {
   "cell_type": "code",
   "execution_count": 3,
   "metadata": {},
   "outputs": [
    {
     "data": {
      "text/plain": [
       "(4, 5, 6, 1, 2, 3)"
      ]
     },
     "execution_count": 3,
     "metadata": {},
     "output_type": "execute_result"
    }
   ],
   "source": [
    "# 1, add operation\n",
    "tup1 = (4,5,6)\n",
    "tup2 = 1,2,3\n",
    "tup = tup1 + tup2\n",
    "tup"
   ]
  },
  {
   "cell_type": "code",
   "execution_count": 4,
   "metadata": {},
   "outputs": [
    {
     "data": {
      "text/plain": [
       "[6, 1, 2, 3]"
      ]
     },
     "execution_count": 4,
     "metadata": {},
     "output_type": "execute_result"
    }
   ],
   "source": [
    "# 2, * rest\n",
    "v1,v2,*rest = tup\n",
    "rest"
   ]
  },
  {
   "cell_type": "code",
   "execution_count": 5,
   "metadata": {},
   "outputs": [
    {
     "name": "stdout",
     "output_type": "stream",
     "text": [
      "3\n"
     ]
    }
   ],
   "source": [
    "# 3, methods of tuple\n",
    "tup = (2,4)*3\n",
    "number_of_4 = tup.count(4)\n",
    "print(number_of_4)"
   ]
  },
  {
   "cell_type": "code",
   "execution_count": 33,
   "metadata": {},
   "outputs": [
    {
     "name": "stdout",
     "output_type": "stream",
     "text": [
      "append [1, 2, 3, 233]\n",
      "insert [1, 332, 2, 3, 233]\n",
      "pop [1, 2, 3, 233]\n",
      "remove [1, 2, 3]\n",
      "extend [1, 2, 3, -5, -6, 7]\n",
      "sort [-6, -5, 1, 2, 3, 7]\n",
      "sorted [-6, -5, 1, 2, 3, 7]\n",
      "reversed [7, 3, 2, 1, -5, -6]\n"
     ]
    }
   ],
   "source": [
    "# 4, methods of list\n",
    "blist=[1,2,3]\n",
    "\n",
    "## 4.1, append\n",
    "blist.append(233)\n",
    "print(f'append {blist}')\n",
    "\n",
    "## 4.2, insert\n",
    "blist.insert(1,332)\n",
    "print(f'insert {blist}')\n",
    "\n",
    "## 4.3, pop (reverse operation of insert)\n",
    "blist.pop(1)\n",
    "print(f'pop {blist}')\n",
    "\n",
    "## 4.4, remove (remove by value)\n",
    "blist.remove(233)\n",
    "print(f'remove {blist}')\n",
    "\n",
    "## 4.5, extend (add a sequence to list)  【better than + operation】\n",
    "blist.extend([-5,-6,7])\n",
    "print(f'extend {blist}')\n",
    "\n",
    "## 4.5, sort\n",
    "blist.sort()\n",
    "print(f'sort {blist}')\n",
    "print(f'sorted {sorted(blist)}')\n",
    "\n",
    "## 4,6 reversed\n",
    "print(f'reversed {list(reversed(blist))}')\n"
   ]
  },
  {
   "cell_type": "code",
   "execution_count": 20,
   "metadata": {},
   "outputs": [
    {
     "name": "stdout",
     "output_type": "stream",
     "text": [
      "concat [-6, -5, 1, 2, 3, 7, 'a', 'b', 'c']\n",
      "slice[1:4] [-5, 1, 2]\n",
      "slice[1:] [-5, 1, 2, 3, 7, 'a', 'b', 'c']\n",
      "slice[1::2] [-5, 2, 7, 'b']\n",
      "slice[1::-1] [-5, -6]\n",
      "slice[::-1] ['c', 'b', 'a', 7, 3, 2, 1, -5, -6]\n"
     ]
    }
   ],
   "source": [
    "# 5, characteristics of list\n",
    "## 5.1 concatenating\n",
    "clist = ['a','b','c']\n",
    "concatlist = blist + clist\n",
    "print(f'concat {concatlist}')\n",
    "\n",
    "## 5.2, slice (remember left close right open [) ])\n",
    "slicelist1 = concatlist[1:4]\n",
    "slicelist2 = concatlist[1:]     # include the last one\n",
    "print(f'slice[1:4] {slicelist1}')\n",
    "print(f'slice[1:] {slicelist2}')\n",
    "\n",
    "slicelist3 = concatlist[1::2]    # step2\n",
    "slicelist4 = concatlist[1::-1]      # reverse step from position 1\n",
    "slicelist5 = concatlist[::-1]\n",
    "print(f'slice[1::2] {slicelist3}')\n",
    "print(f'slice[1::-1] {slicelist4}')\n",
    "print(f'slice[::-1] {slicelist5}')"
   ]
  },
  {
   "cell_type": "code",
   "execution_count": 25,
   "metadata": {},
   "outputs": [
    {
     "name": "stdout",
     "output_type": "stream",
     "text": [
      "True\n",
      "del {'b': 133}\n",
      "pop {}\n",
      "items dict_items([('a', 233), ('b', 133)])\n",
      "get No c here\n"
     ]
    }
   ],
   "source": [
    "#6, dict characteristics\n",
    "dictionary = {'a':233,'b':133}\n",
    "\n",
    "## 6.1 judge key in dict\n",
    "print(('a' in dictionary))\n",
    "\n",
    "## 6.2 del keyword/// pop method\n",
    "del dictionary['a']\n",
    "print(f'del {dictionary}')\n",
    "\n",
    "pop_ = dictionary.pop('b')\n",
    "print(f'pop {dictionary}')\n",
    "\n",
    "## 6.3 items(),keys(),values()\n",
    "dictionary = {'a':233,'b':133}\n",
    "print(f'items {dictionary.items()}')\n",
    "\n",
    "## 6.4 get()\n",
    "value = dictionary.get('c','No c here')\n",
    "print(f'get {value}')"
   ]
  },
  {
   "cell_type": "code",
   "execution_count": 30,
   "metadata": {},
   "outputs": [
    {
     "name": "stdout",
     "output_type": "stream",
     "text": [
      "union {1, 2, 3, 4, 5, 6, 7}\n",
      "intersection {3, 4, 5}\n",
      "issubset True\n",
      "equal True\n"
     ]
    }
   ],
   "source": [
    "#7, set \n",
    "## 7.1, union or |\n",
    "a = set([1,2,3,4,5,5,5])\n",
    "b = set([3,4,5,6,7])\n",
    "print(f'union {a.union(b)}')\n",
    "\n",
    "## 7.2, intersection or &\n",
    "print(f'intersection {a.intersection(b)}')\n",
    "\n",
    "## 7.3, issubset\n",
    "print(f'issubset {set([1,2,3]).issubset(a)}')\n",
    "\n",
    "## 7.4, equal\n",
    "print(f'equal {set([5,4,3,2,1])==a}')\n",
    "\n"
   ]
  },
  {
   "cell_type": "code",
   "execution_count": null,
   "metadata": {},
   "outputs": [],
   "source": []
  }
 ],
 "metadata": {
  "kernelspec": {
   "display_name": "py310",
   "language": "python",
   "name": "python3"
  },
  "language_info": {
   "codemirror_mode": {
    "name": "ipython",
    "version": 3
   },
   "file_extension": ".py",
   "mimetype": "text/x-python",
   "name": "python",
   "nbconvert_exporter": "python",
   "pygments_lexer": "ipython3",
   "version": "3.10.14"
  }
 },
 "nbformat": 4,
 "nbformat_minor": 2
}
